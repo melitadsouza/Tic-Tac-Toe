{
 "cells": [
  {
   "cell_type": "markdown",
   "metadata": {},
   "source": [
    "\n",
    "Step 1: Function that can print out a board. Setting up the board as a list, where each index 1-9 corresponds with a number on a number pad, so we get a 3 by 3 board representation.\n"
   ]
  },
  {
   "cell_type": "code",
   "execution_count": 1,
   "metadata": {
    "collapsed": false
   },
   "outputs": [],
   "source": [
    "from IPython.display import clear_output\n",
    "\n",
    "def display_board(board):\n",
    "    \n",
    "    \n",
    "    print(\"   |   |\")\n",
    "    print(\" \"+board[7]+\" |\"+\" \"+board[8]+\" \"\"|\"+\" \" +board[9])\n",
    "    print(\"   |   |\")\n",
    "    print(\"------------\")\n",
    "    print(\"   |   |\")\n",
    "    print(\" \"+board[4]+\" |\"+\" \"+board[5]+\" \"\"|\"+\" \" +board[6])\n",
    "    print(\"   |   |\")\n",
    "    print(\"------------\")\n",
    "    print(\"   |   |\")\n",
    "    print(\" \"+board[1]+\" |\"+\" \"+board[2]+\" \"\"|\"+\" \" +board[3])\n",
    "    print(\"   |   |\")\n",
    "    \n",
    "    "
   ]
  },
  {
   "cell_type": "markdown",
   "metadata": {},
   "source": [
    "\n",
    "Step 2: Function that can take in a player input and assign their marker as 'X' or 'O'."
   ]
  },
  {
   "cell_type": "code",
   "execution_count": 2,
   "metadata": {
    "collapsed": true
   },
   "outputs": [],
   "source": [
    "def player_input():\n",
    "    \n",
    "    marker = ''\n",
    "    while not (marker == 'X' or marker == 'O'):\n",
    "        marker = input(\"Please pick a marker 'X' or 'O'\").upper()\n",
    "    \n",
    "    \n",
    "    if marker == 'X':\n",
    "        return('X','O')\n",
    "    else:\n",
    "        return('O','X')\n",
    "    \n",
    "    "
   ]
  },
  {
   "cell_type": "markdown",
   "metadata": {},
   "source": [
    "Step 3: Function that takes in the board list object, a marker ('X' or 'O'), and a desired position (number 1-9) and assigns it to the board."
   ]
  },
  {
   "cell_type": "code",
   "execution_count": 3,
   "metadata": {
    "collapsed": true
   },
   "outputs": [],
   "source": [
    "def place_marker(board, marker, position):\n",
    "    \n",
    "    board[position] = marker"
   ]
  },
  {
   "cell_type": "markdown",
   "metadata": {},
   "source": [
    "Step 4: Function that takes in a board and a mark (X or O) and then checks to see if that mark has won."
   ]
  },
  {
   "cell_type": "code",
   "execution_count": 4,
   "metadata": {
    "collapsed": false
   },
   "outputs": [],
   "source": [
    "def win_check(board, mark):\n",
    "    \n",
    "    return((board[1] == mark and board[2] == mark and board[3] == mark) or \n",
    "    (board[4] == mark and board[5] == mark and board[6] == mark) or\n",
    "    (board[7] == mark and board[8] == mark and board[9] == mark) or\n",
    "    (board[3] == mark and board[5] == mark and board[7] == mark) or\n",
    "    (board[1] == mark and board[5] == mark and board[9] == mark) or\n",
    "    (board[3] == mark and board[6] == mark and board[9] == mark) or\n",
    "    (board[2] == mark and board[5] == mark and board[8] == mark) or\n",
    "    (board[1] == mark and board[4] == mark and board[7] == mark) )\n",
    "        "
   ]
  },
  {
   "cell_type": "markdown",
   "metadata": {},
   "source": [
    "Step 5: Function that uses the random module to randomly decide which player goes first. Returns a string of which player went first."
   ]
  },
  {
   "cell_type": "code",
   "execution_count": 5,
   "metadata": {
    "collapsed": true
   },
   "outputs": [],
   "source": [
    "import random\n",
    "\n",
    "def choose_first():\n",
    "    \n",
    "    player = random.randint(1,2)\n",
    "    \n",
    "    if player == 1:\n",
    "        return('player 1')\n",
    "    else:\n",
    "        return('player 2')"
   ]
  },
  {
   "cell_type": "markdown",
   "metadata": {},
   "source": [
    "\n",
    "Step 6: Function that returns a boolean indicating whether a space on the board is freely available.\n",
    "\n"
   ]
  },
  {
   "cell_type": "code",
   "execution_count": 6,
   "metadata": {
    "collapsed": true
   },
   "outputs": [],
   "source": [
    "def space_check(board, position):\n",
    "    \n",
    "    return(board[position] == \" \")"
   ]
  },
  {
   "cell_type": "markdown",
   "metadata": {},
   "source": [
    "Step 7: Function that checks if the board is full and returns a boolean value. True if full, False otherwise."
   ]
  },
  {
   "cell_type": "code",
   "execution_count": 7,
   "metadata": {
    "collapsed": true
   },
   "outputs": [],
   "source": [
    "def full_board_check(board):\n",
    "    \n",
    "    for i in range(1,10):\n",
    "        if space_check(board, i):\n",
    "            return False\n",
    "    return True"
   ]
  },
  {
   "cell_type": "markdown",
   "metadata": {},
   "source": [
    "\n",
    "Step 8: Function that asks for a player's next position (as a number 1-9) and then uses the function from step 6 to check if it's a free position. If it is, then return the position for later use."
   ]
  },
  {
   "cell_type": "code",
   "execution_count": 8,
   "metadata": {
    "collapsed": true
   },
   "outputs": [],
   "source": [
    "def player_choice(board):\n",
    "    position = 0\n",
    " \n",
    "    \n",
    "    while position not in [1,2,3,4,5,6,7,8,9] or not space_check(board,position):\n",
    "        \n",
    "        position = int(input('Choose your position: (1-9)'))\n",
    "        \n",
    "    return position"
   ]
  },
  {
   "cell_type": "markdown",
   "metadata": {},
   "source": [
    "Step 9: Function that asks the player if they want to play again and returns a boolean True if they do want to play again."
   ]
  },
  {
   "cell_type": "code",
   "execution_count": null,
   "metadata": {
    "collapsed": true
   },
   "outputs": [],
   "source": [
    "def replay():\n",
    "    \n",
    "    return(input(\"Do you want to play again: 'YES'/'NO'\").lower()[0] == 'y')"
   ]
  },
  {
   "cell_type": "markdown",
   "metadata": {},
   "source": [
    "Step 10: Run the game!"
   ]
  },
  {
   "cell_type": "code",
   "execution_count": null,
   "metadata": {
    "collapsed": false
   },
   "outputs": [
    {
     "name": "stdout",
     "output_type": "stream",
     "text": [
      "Welcome to Tic Tac Toe\n"
     ]
    }
   ],
   "source": [
    "print(\"Welcome to Tic Tac Toe\")\n",
    "\n",
    "\n",
    "while True:\n",
    "    gameBoard = [' ']*10 #reset the board\n",
    "    player1_marker, player2_marker = player_input() #player1 selects X or O\n",
    "    turn = choose_first() #randomly selects a player to start\n",
    "    print(turn+' will go first') \n",
    "    play = input(\"Are you ready to play?: 'yes'/'no'\")\n",
    "\n",
    "    if play.lower()[0] == 'y':\n",
    "        game_on = True\n",
    "    else:\n",
    "        game_on = False\n",
    "    \n",
    "    #game starts\n",
    "    while game_on:\n",
    "        if turn == 'player 1':\n",
    "            #player 1's turn\n",
    "            display_board(gameBoard)\n",
    "            print(turn)\n",
    "            position = player_choice(gameBoard)\n",
    "            place_marker(gameBoard, player1_marker, position)\n",
    "\n",
    "            if win_check(gameBoard, player1_marker) == True:\n",
    "                display_board(gameBoard)\n",
    "                print(\"Congratulations! You won the game!\")\n",
    "                game_on = False\n",
    "\n",
    "            else:\n",
    "                if full_board_check(gameBoard):\n",
    "                    display_board(gameBoard)\n",
    "                    print(\"It's a draw\")\n",
    "                    break\n",
    "                else:\n",
    "                    turn = 'player 2'\n",
    "\n",
    "        else:\n",
    "            #player 2's turn\n",
    "            display_board(gameBoard)\n",
    "            print(turn)\n",
    "            position = player_choice(gameBoard)\n",
    "            place_marker(gameBoard, player2_marker, position)\n",
    "\n",
    "            if win_check(gameBoard, player2_marker) == True:\n",
    "                display_board(gameBoard)\n",
    "                print(\"Player 2 has won!\")\n",
    "                game_on = False\n",
    "\n",
    "            else:\n",
    "                if full_board_check(gameBoard):\n",
    "                    display_board(gameBoard)\n",
    "                    print(\"It's a draw\")\n",
    "                    break\n",
    "                else:\n",
    "                    turn = 'player 1'\n",
    "\n",
    "\n",
    "    if not replay():\n",
    "        break\n",
    "    \n",
    "    \n",
    "    \n"
   ]
  },
  {
   "cell_type": "code",
   "execution_count": null,
   "metadata": {
    "collapsed": true
   },
   "outputs": [],
   "source": []
  }
 ],
 "metadata": {
  "anaconda-cloud": {},
  "kernelspec": {
   "display_name": "Python [default]",
   "language": "python",
   "name": "python3"
  },
  "language_info": {
   "codemirror_mode": {
    "name": "ipython",
    "version": 3
   },
   "file_extension": ".py",
   "mimetype": "text/x-python",
   "name": "python",
   "nbconvert_exporter": "python",
   "pygments_lexer": "ipython3",
   "version": "3.5.2"
  }
 },
 "nbformat": 4,
 "nbformat_minor": 1
}
